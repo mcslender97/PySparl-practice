{
  "nbformat": 4,
  "nbformat_minor": 0,
  "metadata": {
    "colab": {
      "provenance": [],
      "mount_file_id": "1AMWFhEeU49IcqPRHJN5iVvwugwFY9y3i",
      "authorship_tag": "ABX9TyNMfYrbzTl2rqDwUb6APDjI",
      "include_colab_link": true
    },
    "kernelspec": {
      "name": "python3",
      "display_name": "Python 3"
    },
    "language_info": {
      "name": "python"
    }
  },
  "cells": [
    {
      "cell_type": "markdown",
      "metadata": {
        "id": "view-in-github",
        "colab_type": "text"
      },
      "source": [
        "<a href=\"https://colab.research.google.com/github/mcslender97/PySparl-practice/blob/main/Pyspark_LR_Iris.ipynb\" target=\"_parent\"><img src=\"https://colab.research.google.com/assets/colab-badge.svg\" alt=\"Open In Colab\"/></a>"
      ]
    },
    {
      "cell_type": "code",
      "execution_count": 60,
      "metadata": {
        "colab": {
          "base_uri": "https://localhost:8080/"
        },
        "id": "E2f1fwiDrfRD",
        "outputId": "ad47aee4-65b0-42b9-89fd-1e6b1e79cd17"
      },
      "outputs": [
        {
          "output_type": "stream",
          "name": "stdout",
          "text": [
            "Looking in indexes: https://pypi.org/simple, https://us-python.pkg.dev/colab-wheels/public/simple/\n",
            "Requirement already satisfied: pyspark in /usr/local/lib/python3.8/dist-packages (3.3.2)\n",
            "Requirement already satisfied: py4j==0.10.9.5 in /usr/local/lib/python3.8/dist-packages (from pyspark) (0.10.9.5)\n",
            "Looking in indexes: https://pypi.org/simple, https://us-python.pkg.dev/colab-wheels/public/simple/\n",
            "Requirement already satisfied: findspark in /usr/local/lib/python3.8/dist-packages (2.0.1)\n"
          ]
        }
      ],
      "source": [
        "!pip install pyspark\n",
        "!pip install findspark"
      ]
    },
    {
      "cell_type": "code",
      "source": [
        "import pyspark.pandas as ps\n",
        "import findspark\n",
        "import pandas as pd\n",
        "import matplotlib\n",
        "import seaborn\n",
        "import sklearn"
      ],
      "metadata": {
        "id": "SqD6enfSwwNI"
      },
      "execution_count": 61,
      "outputs": []
    },
    {
      "cell_type": "code",
      "source": [
        "findspark.init()# auto find Spark installation for easy init\n",
        "from pyspark.sql import SparkSession"
      ],
      "metadata": {
        "id": "b5uDDOHJx-hJ"
      },
      "execution_count": 62,
      "outputs": []
    },
    {
      "cell_type": "code",
      "source": [
        "spark=SparkSession.builder.master('local[*]').getOrCreate()# start Spark session"
      ],
      "metadata": {
        "id": "1ZkmHt1TyR9B"
      },
      "execution_count": 63,
      "outputs": []
    },
    {
      "cell_type": "code",
      "source": [
        "df=spark.read.csv(\"/content/Iris.csv\",header=True, inferSchema=True)"
      ],
      "metadata": {
        "id": "z6XtBGCRylmn"
      },
      "execution_count": 64,
      "outputs": []
    },
    {
      "cell_type": "code",
      "source": [
        "df"
      ],
      "metadata": {
        "colab": {
          "base_uri": "https://localhost:8080/"
        },
        "id": "ZDKRHr5y2qN2",
        "outputId": "f45b8ec3-402d-402a-a2ae-dfc69b89fc27"
      },
      "execution_count": 65,
      "outputs": [
        {
          "output_type": "execute_result",
          "data": {
            "text/plain": [
              "DataFrame[Id: int, SepalLengthCm: double, SepalWidthCm: double, PetalLengthCm: double, PetalWidthCm: double, Species: string]"
            ]
          },
          "metadata": {},
          "execution_count": 65
        }
      ]
    },
    {
      "cell_type": "code",
      "source": [
        "\n",
        "# Find count for empty, None, Null, Nan with string literals.\n",
        "from pyspark.sql.functions import col,isnan,when,count\n",
        "df2 = df.select([count(when(col(c).contains('None') | \\\n",
        "                            col(c).contains('NULL') | \\\n",
        "                            (col(c) == '' ) | \\\n",
        "                            col(c).isNull() | \\\n",
        "                            isnan(c), c \n",
        "                           )).alias(c)\n",
        "                    for c in df.columns])\n",
        "df2.show()"
      ],
      "metadata": {
        "colab": {
          "base_uri": "https://localhost:8080/"
        },
        "id": "ftDlGkIiaF6g",
        "outputId": "7839a9d6-3458-4e60-8b60-9adbe11b08dd"
      },
      "execution_count": 100,
      "outputs": [
        {
          "output_type": "stream",
          "name": "stdout",
          "text": [
            "+---+-------------+------------+-------------+------------+-------+\n",
            "| Id|SepalLengthCm|SepalWidthCm|PetalLengthCm|PetalWidthCm|Species|\n",
            "+---+-------------+------------+-------------+------------+-------+\n",
            "|  0|            0|           0|            0|           0|      0|\n",
            "+---+-------------+------------+-------------+------------+-------+\n",
            "\n"
          ]
        }
      ]
    },
    {
      "cell_type": "code",
      "source": [
        "df.show(5)"
      ],
      "metadata": {
        "colab": {
          "base_uri": "https://localhost:8080/"
        },
        "id": "qfGhBiXy2snv",
        "outputId": "13fc9033-ffe0-494f-db0d-4ad4d043745d"
      },
      "execution_count": 66,
      "outputs": [
        {
          "output_type": "stream",
          "name": "stdout",
          "text": [
            "+---+-------------+------------+-------------+------------+-----------+\n",
            "| Id|SepalLengthCm|SepalWidthCm|PetalLengthCm|PetalWidthCm|    Species|\n",
            "+---+-------------+------------+-------------+------------+-----------+\n",
            "|  1|          5.1|         3.5|          1.4|         0.2|Iris-setosa|\n",
            "|  2|          4.9|         3.0|          1.4|         0.2|Iris-setosa|\n",
            "|  3|          4.7|         3.2|          1.3|         0.2|Iris-setosa|\n",
            "|  4|          4.6|         3.1|          1.5|         0.2|Iris-setosa|\n",
            "|  5|          5.0|         3.6|          1.4|         0.2|Iris-setosa|\n",
            "+---+-------------+------------+-------------+------------+-----------+\n",
            "only showing top 5 rows\n",
            "\n"
          ]
        }
      ]
    },
    {
      "cell_type": "code",
      "source": [
        "df.filter(\"SepalWidthCm>4\").show()"
      ],
      "metadata": {
        "colab": {
          "base_uri": "https://localhost:8080/"
        },
        "id": "K1BPiHiX4gHA",
        "outputId": "f0b21303-e13c-4225-8c5c-35bc224ac648"
      },
      "execution_count": 67,
      "outputs": [
        {
          "output_type": "stream",
          "name": "stdout",
          "text": [
            "+---+-------------+------------+-------------+------------+-----------+\n",
            "| Id|SepalLengthCm|SepalWidthCm|PetalLengthCm|PetalWidthCm|    Species|\n",
            "+---+-------------+------------+-------------+------------+-----------+\n",
            "| 16|          5.7|         4.4|          1.5|         0.4|Iris-setosa|\n",
            "| 33|          5.2|         4.1|          1.5|         0.1|Iris-setosa|\n",
            "| 34|          5.5|         4.2|          1.4|         0.2|Iris-setosa|\n",
            "+---+-------------+------------+-------------+------------+-----------+\n",
            "\n"
          ]
        }
      ]
    },
    {
      "cell_type": "code",
      "source": [],
      "metadata": {
        "id": "LtSGTWP194Jv"
      },
      "execution_count": 67,
      "outputs": []
    },
    {
      "cell_type": "code",
      "source": [
        "df.filter(\"PetalWidthCm>1\").show()"
      ],
      "metadata": {
        "colab": {
          "base_uri": "https://localhost:8080/"
        },
        "outputId": "3bbab613-7199-4537-f81a-55d0a5490881",
        "id": "o55hmo0V94dR"
      },
      "execution_count": 68,
      "outputs": [
        {
          "output_type": "stream",
          "name": "stdout",
          "text": [
            "+---+-------------+------------+-------------+------------+---------------+\n",
            "| Id|SepalLengthCm|SepalWidthCm|PetalLengthCm|PetalWidthCm|        Species|\n",
            "+---+-------------+------------+-------------+------------+---------------+\n",
            "| 51|          7.0|         3.2|          4.7|         1.4|Iris-versicolor|\n",
            "| 52|          6.4|         3.2|          4.5|         1.5|Iris-versicolor|\n",
            "| 53|          6.9|         3.1|          4.9|         1.5|Iris-versicolor|\n",
            "| 54|          5.5|         2.3|          4.0|         1.3|Iris-versicolor|\n",
            "| 55|          6.5|         2.8|          4.6|         1.5|Iris-versicolor|\n",
            "| 56|          5.7|         2.8|          4.5|         1.3|Iris-versicolor|\n",
            "| 57|          6.3|         3.3|          4.7|         1.6|Iris-versicolor|\n",
            "| 59|          6.6|         2.9|          4.6|         1.3|Iris-versicolor|\n",
            "| 60|          5.2|         2.7|          3.9|         1.4|Iris-versicolor|\n",
            "| 62|          5.9|         3.0|          4.2|         1.5|Iris-versicolor|\n",
            "| 64|          6.1|         2.9|          4.7|         1.4|Iris-versicolor|\n",
            "| 65|          5.6|         2.9|          3.6|         1.3|Iris-versicolor|\n",
            "| 66|          6.7|         3.1|          4.4|         1.4|Iris-versicolor|\n",
            "| 67|          5.6|         3.0|          4.5|         1.5|Iris-versicolor|\n",
            "| 69|          6.2|         2.2|          4.5|         1.5|Iris-versicolor|\n",
            "| 70|          5.6|         2.5|          3.9|         1.1|Iris-versicolor|\n",
            "| 71|          5.9|         3.2|          4.8|         1.8|Iris-versicolor|\n",
            "| 72|          6.1|         2.8|          4.0|         1.3|Iris-versicolor|\n",
            "| 73|          6.3|         2.5|          4.9|         1.5|Iris-versicolor|\n",
            "| 74|          6.1|         2.8|          4.7|         1.2|Iris-versicolor|\n",
            "+---+-------------+------------+-------------+------------+---------------+\n",
            "only showing top 20 rows\n",
            "\n"
          ]
        }
      ]
    },
    {
      "cell_type": "code",
      "source": [],
      "metadata": {
        "id": "73SAg2oL9_GD"
      },
      "execution_count": 68,
      "outputs": []
    },
    {
      "cell_type": "code",
      "source": [
        "df.filter(\"PetalWidthCm>2\").show()"
      ],
      "metadata": {
        "colab": {
          "base_uri": "https://localhost:8080/"
        },
        "outputId": "44c44b08-756e-4880-a759-953df618e8b9",
        "id": "XrCSZ-Jy-IB4"
      },
      "execution_count": 69,
      "outputs": [
        {
          "output_type": "stream",
          "name": "stdout",
          "text": [
            "+---+-------------+------------+-------------+------------+--------------+\n",
            "| Id|SepalLengthCm|SepalWidthCm|PetalLengthCm|PetalWidthCm|       Species|\n",
            "+---+-------------+------------+-------------+------------+--------------+\n",
            "|101|          6.3|         3.3|          6.0|         2.5|Iris-virginica|\n",
            "|103|          7.1|         3.0|          5.9|         2.1|Iris-virginica|\n",
            "|105|          6.5|         3.0|          5.8|         2.2|Iris-virginica|\n",
            "|106|          7.6|         3.0|          6.6|         2.1|Iris-virginica|\n",
            "|110|          7.2|         3.6|          6.1|         2.5|Iris-virginica|\n",
            "|113|          6.8|         3.0|          5.5|         2.1|Iris-virginica|\n",
            "|115|          5.8|         2.8|          5.1|         2.4|Iris-virginica|\n",
            "|116|          6.4|         3.2|          5.3|         2.3|Iris-virginica|\n",
            "|118|          7.7|         3.8|          6.7|         2.2|Iris-virginica|\n",
            "|119|          7.7|         2.6|          6.9|         2.3|Iris-virginica|\n",
            "|121|          6.9|         3.2|          5.7|         2.3|Iris-virginica|\n",
            "|125|          6.7|         3.3|          5.7|         2.1|Iris-virginica|\n",
            "|129|          6.4|         2.8|          5.6|         2.1|Iris-virginica|\n",
            "|133|          6.4|         2.8|          5.6|         2.2|Iris-virginica|\n",
            "|136|          7.7|         3.0|          6.1|         2.3|Iris-virginica|\n",
            "|137|          6.3|         3.4|          5.6|         2.4|Iris-virginica|\n",
            "|140|          6.9|         3.1|          5.4|         2.1|Iris-virginica|\n",
            "|141|          6.7|         3.1|          5.6|         2.4|Iris-virginica|\n",
            "|142|          6.9|         3.1|          5.1|         2.3|Iris-virginica|\n",
            "|144|          6.8|         3.2|          5.9|         2.3|Iris-virginica|\n",
            "+---+-------------+------------+-------------+------------+--------------+\n",
            "only showing top 20 rows\n",
            "\n"
          ]
        }
      ]
    },
    {
      "cell_type": "code",
      "source": [
        "dfr=df.toPandas()"
      ],
      "metadata": {
        "id": "2NrDC9PyCpYc"
      },
      "execution_count": 70,
      "outputs": []
    },
    {
      "cell_type": "code",
      "source": [
        "# 7.Try to know the relationship between sepallength and petallength and draw a scatter plot between them and show the relationship between them\n",
        "dfr.plot.scatter(x='SepalLengthCm',y='PetalLengthCm')"
      ],
      "metadata": {
        "colab": {
          "base_uri": "https://localhost:8080/",
          "height": 296
        },
        "id": "_vWS5jlc-PTd",
        "outputId": "847f8d60-e4bc-4de3-c4ee-3ee165fbe4a7"
      },
      "execution_count": 71,
      "outputs": [
        {
          "output_type": "execute_result",
          "data": {
            "text/plain": [
              "<matplotlib.axes._subplots.AxesSubplot at 0x7ff84a0fe490>"
            ]
          },
          "metadata": {},
          "execution_count": 71
        },
        {
          "output_type": "display_data",
          "data": {
            "text/plain": [
              "<Figure size 432x288 with 1 Axes>"
            ],
            "image/png": "[encoded data removed]"
          },
          "metadata": {
            "needs_background": "light"
          }
        }
      ]
    },
    {
      "cell_type": "code",
      "source": [
        "# 8.Now apply species as hue in the same scatter plot for better visibility and understanding\n",
        "import seaborn as sns\n",
        "sns.scatterplot(data=dfr,x=\"SepalLengthCm\",y=\"PetalLengthCm\",hue=\"Species\")"
      ],
      "metadata": {
        "colab": {
          "base_uri": "https://localhost:8080/",
          "height": 296
        },
        "id": "PvswZ9TfDFfn",
        "outputId": "7fb7c182-4d09-44e3-fffa-4d4bffd5a7ae"
      },
      "execution_count": 72,
      "outputs": [
        {
          "output_type": "execute_result",
          "data": {
            "text/plain": [
              "<matplotlib.axes._subplots.AxesSubplot at 0x7ff84a119670>"
            ]
          },
          "metadata": {},
          "execution_count": 72
        },
        {
          "output_type": "display_data",
          "data": {
            "text/plain": [
              "<Figure size 432x288 with 1 Axes>"
            ],
            "image/png": "[encoded data removed]"
          },
          "metadata": {
            "needs_background": "light"
          }
        }
      ]
    },
    {
      "cell_type": "markdown",
      "source": [
        "Applying Linear Regression\n",
        "1)Model 1"
      ],
      "metadata": {
        "id": "UOxneAD24mN6"
      }
    },
    {
      "cell_type": "code",
      "source": [
        "# a)Create an object named as y which is storing the dataframe of a dependent variable names as 'sepallengthcm'\n",
        "# b)Create an object named as x which is storing the dataframe of an independent variable names as 'sepalwidthcm'\n",
        "x_df=df.select(['SepalWidthCm'])\n",
        "y_df=df.select(['SepalLengthCm'])"
      ],
      "metadata": {
        "id": "EQEUX0TgGAwI"
      },
      "execution_count": 73,
      "outputs": []
    },
    {
      "cell_type": "code",
      "source": [
        "x_split=x_df.randomSplit([0.7,0.3])\n",
        "x_train=x_split[0]\n",
        "x_test=x_split[1]"
      ],
      "metadata": {
        "id": "8WvpgYjcQ1qq"
      },
      "execution_count": 74,
      "outputs": []
    },
    {
      "cell_type": "code",
      "source": [
        "y_split=y_df.randomSplit([0.7,0.3])\n",
        "y_train=y_split[0]\n",
        "y_test=y_split[1]"
      ],
      "metadata": {
        "id": "LSNr0E7nSBDx"
      },
      "execution_count": 75,
      "outputs": []
    },
    {
      "cell_type": "code",
      "source": [
        "x_train.show(5)"
      ],
      "metadata": {
        "colab": {
          "base_uri": "https://localhost:8080/"
        },
        "id": "967smvQFhTOj",
        "outputId": "3e018306-cd05-44f6-f6e7-3ddb63f17f71"
      },
      "execution_count": 76,
      "outputs": [
        {
          "output_type": "stream",
          "name": "stdout",
          "text": [
            "+------------+\n",
            "|SepalWidthCm|\n",
            "+------------+\n",
            "|         2.2|\n",
            "|         2.3|\n",
            "|         2.4|\n",
            "|         2.4|\n",
            "|         2.4|\n",
            "+------------+\n",
            "only showing top 5 rows\n",
            "\n"
          ]
        }
      ]
    },
    {
      "cell_type": "code",
      "source": [
        "from pyspark.ml.regression import LinearRegression # import ML regression libarary"
      ],
      "metadata": {
        "id": "gYfiR53q4tHk"
      },
      "execution_count": 77,
      "outputs": []
    },
    {
      "cell_type": "code",
      "source": [
        "# Pyspark linear regression requires inputs to be of vector type\n",
        "# Use Vector Assembler to create vector columns\n",
        "from pyspark.ml.feature import VectorAssembler\n",
        "import numpy as np\n",
        "assembler=VectorAssembler().setInputCols(['SepalWidthCm']).setOutputCol('Independent variables')"
      ],
      "metadata": {
        "id": "WBhUnsGL4ww4"
      },
      "execution_count": 78,
      "outputs": []
    },
    {
      "cell_type": "code",
      "source": [
        "# Set output column\n",
        "# Returns an array of elements after applying a transformation to each element in the input array\n",
        "output = assembler.transform(df)\n",
        "output.select(\"Independent variables\").show()"
      ],
      "metadata": {
        "colab": {
          "base_uri": "https://localhost:8080/"
        },
        "id": "xMYgY0yG92Gr",
        "outputId": "7274fb90-2862-408a-b855-f7a36b0546c5"
      },
      "execution_count": 79,
      "outputs": [
        {
          "output_type": "stream",
          "name": "stdout",
          "text": [
            "+---------------------+\n",
            "|Independent variables|\n",
            "+---------------------+\n",
            "|                [3.5]|\n",
            "|                [3.0]|\n",
            "|                [3.2]|\n",
            "|                [3.1]|\n",
            "|                [3.6]|\n",
            "|                [3.9]|\n",
            "|                [3.4]|\n",
            "|                [3.4]|\n",
            "|                [2.9]|\n",
            "|                [3.1]|\n",
            "|                [3.7]|\n",
            "|                [3.4]|\n",
            "|                [3.0]|\n",
            "|                [3.0]|\n",
            "|                [4.0]|\n",
            "|                [4.4]|\n",
            "|                [3.9]|\n",
            "|                [3.5]|\n",
            "|                [3.8]|\n",
            "|                [3.8]|\n",
            "+---------------------+\n",
            "only showing top 20 rows\n",
            "\n"
          ]
        }
      ]
    },
    {
      "cell_type": "code",
      "source": [
        "finalised_data = output.select(\"Independent variables\", \"SepalLengthCm\") # select input and predicted output"
      ],
      "metadata": {
        "id": "4GPxKx0p-I6W"
      },
      "execution_count": 80,
      "outputs": []
    },
    {
      "cell_type": "code",
      "source": [
        "train_data, test_data = finalised_data.randomSplit([0.7, 0.3]) #split the data, 70% train, 30% test\n"
      ],
      "metadata": {
        "id": "hRV6ui-NATX0"
      },
      "execution_count": 81,
      "outputs": []
    },
    {
      "cell_type": "code",
      "source": [
        "train_data.show(5)"
      ],
      "metadata": {
        "colab": {
          "base_uri": "https://localhost:8080/"
        },
        "id": "KWXJjgxUYyT6",
        "outputId": "e0aa9362-239b-4450-e1f6-1196ff083e21"
      },
      "execution_count": 82,
      "outputs": [
        {
          "output_type": "stream",
          "name": "stdout",
          "text": [
            "+---------------------+-------------+\n",
            "|Independent variables|SepalLengthCm|\n",
            "+---------------------+-------------+\n",
            "|                [2.0]|          5.0|\n",
            "|                [2.2]|          6.0|\n",
            "|                [2.2]|          6.0|\n",
            "|                [2.2]|          6.2|\n",
            "|                [2.3]|          4.5|\n",
            "+---------------------+-------------+\n",
            "only showing top 5 rows\n",
            "\n"
          ]
        }
      ]
    },
    {
      "cell_type": "code",
      "source": [
        "test_data.show(5)"
      ],
      "metadata": {
        "colab": {
          "base_uri": "https://localhost:8080/"
        },
        "id": "nl8OOoubYy8n",
        "outputId": "1604ca12-c17b-493f-ffe9-03940ba4e0a8"
      },
      "execution_count": 83,
      "outputs": [
        {
          "output_type": "stream",
          "name": "stdout",
          "text": [
            "+---------------------+-------------+\n",
            "|Independent variables|SepalLengthCm|\n",
            "+---------------------+-------------+\n",
            "|                [2.3]|          6.3|\n",
            "|                [2.4]|          4.9|\n",
            "|                [2.4]|          5.5|\n",
            "|                [2.5]|          4.9|\n",
            "|                [2.5]|          6.3|\n",
            "+---------------------+-------------+\n",
            "only showing top 5 rows\n",
            "\n"
          ]
        }
      ]
    },
    {
      "cell_type": "code",
      "source": [
        "# Fit the model\n",
        "\n",
        "regressor = LinearRegression(featuresCol = 'Independent variables', labelCol = 'SepalLengthCm')\n",
        "regressor = regressor.fit(train_data)\n"
      ],
      "metadata": {
        "id": "ivM13o4HIqKP"
      },
      "execution_count": 84,
      "outputs": []
    },
    {
      "cell_type": "code",
      "source": [
        "# predict values\n",
        "pred_results = regressor.evaluate(test_data)\n",
        "pred_results.predictions.show()# default prediction returned is the Root mean squared error (deviation) or rmse"
      ],
      "metadata": {
        "colab": {
          "base_uri": "https://localhost:8080/"
        },
        "id": "Plwh2XL7AnKy",
        "outputId": "9e6384c0-66e4-48bc-a5e4-ecaea7c9a89e"
      },
      "execution_count": 85,
      "outputs": [
        {
          "output_type": "stream",
          "name": "stdout",
          "text": [
            "+---------------------+-------------+-----------------+\n",
            "|Independent variables|SepalLengthCm|       prediction|\n",
            "+---------------------+-------------+-----------------+\n",
            "|                [2.3]|          6.3|5.986669374104127|\n",
            "|                [2.4]|          4.9|5.965616817964618|\n",
            "|                [2.4]|          5.5|5.965616817964618|\n",
            "|                [2.5]|          4.9|5.944564261825109|\n",
            "|                [2.5]|          6.3|5.944564261825109|\n",
            "|                [2.5]|          6.7|5.944564261825109|\n",
            "|                [2.6]|          5.5|  5.9235117056856|\n",
            "|                [2.6]|          7.7|  5.9235117056856|\n",
            "|                [2.7]|          5.2|5.902459149546091|\n",
            "|                [2.7]|          5.8|5.902459149546091|\n",
            "|                [2.7]|          6.0|5.902459149546091|\n",
            "|                [2.8]|          5.6|5.881406593406583|\n",
            "|                [2.8]|          6.1|5.881406593406583|\n",
            "|                [2.8]|          6.2|5.881406593406583|\n",
            "|                [2.9]|          5.6|5.860354037267074|\n",
            "|                [2.9]|          6.0|5.860354037267074|\n",
            "|                [2.9]|          6.1|5.860354037267074|\n",
            "|                [2.9]|          6.2|5.860354037267074|\n",
            "|                [2.9]|          6.6|5.860354037267074|\n",
            "|                [3.0]|          4.3|5.839301481127565|\n",
            "+---------------------+-------------+-----------------+\n",
            "only showing top 20 rows\n",
            "\n"
          ]
        }
      ]
    },
    {
      "cell_type": "code",
      "source": [],
      "metadata": {
        "id": "BQOl1z7DY9Df"
      },
      "execution_count": 85,
      "outputs": []
    },
    {
      "cell_type": "code",
      "source": [
        "y_pred=pred_results.predictions['SepalLengthCm']\n",
        "pred_results.meanSquaredError"
      ],
      "metadata": {
        "colab": {
          "base_uri": "https://localhost:8080/"
        },
        "id": "3WVqSj4IVZR2",
        "outputId": "65f72e23-a624-492b-ac83-733fee35f82a"
      },
      "execution_count": 86,
      "outputs": [
        {
          "output_type": "execute_result",
          "data": {
            "text/plain": [
              "0.6985450077138511"
            ]
          },
          "metadata": {},
          "execution_count": 86
        }
      ]
    },
    {
      "cell_type": "code",
      "source": [
        "# Model 2"
      ],
      "metadata": {
        "id": "gtuIkO_4RbYa"
      },
      "execution_count": 87,
      "outputs": []
    },
    {
      "cell_type": "code",
      "source": [
        "from pyspark.ml.feature import VectorAssembler\n",
        "import numpy as np\n",
        "assembler=VectorAssembler().setInputCols(['SepalWidthCm','PetalLengthCm','PetalWidthCm']).setOutputCol('Independent variables')\n",
        "output = assembler.transform(df)\n",
        "output.select(\"Independent variables\").show()"
      ],
      "metadata": {
        "colab": {
          "base_uri": "https://localhost:8080/"
        },
        "id": "I_C0eyLUTOUf",
        "outputId": "d81f1aae-b087-40fa-da92-50e01fe2d5eb"
      },
      "execution_count": 88,
      "outputs": [
        {
          "output_type": "stream",
          "name": "stdout",
          "text": [
            "+---------------------+\n",
            "|Independent variables|\n",
            "+---------------------+\n",
            "|        [3.5,1.4,0.2]|\n",
            "|        [3.0,1.4,0.2]|\n",
            "|        [3.2,1.3,0.2]|\n",
            "|        [3.1,1.5,0.2]|\n",
            "|        [3.6,1.4,0.2]|\n",
            "|        [3.9,1.7,0.4]|\n",
            "|        [3.4,1.4,0.3]|\n",
            "|        [3.4,1.5,0.2]|\n",
            "|        [2.9,1.4,0.2]|\n",
            "|        [3.1,1.5,0.1]|\n",
            "|        [3.7,1.5,0.2]|\n",
            "|        [3.4,1.6,0.2]|\n",
            "|        [3.0,1.4,0.1]|\n",
            "|        [3.0,1.1,0.1]|\n",
            "|        [4.0,1.2,0.2]|\n",
            "|        [4.4,1.5,0.4]|\n",
            "|        [3.9,1.3,0.4]|\n",
            "|        [3.5,1.4,0.3]|\n",
            "|        [3.8,1.7,0.3]|\n",
            "|        [3.8,1.5,0.3]|\n",
            "+---------------------+\n",
            "only showing top 20 rows\n",
            "\n"
          ]
        }
      ]
    },
    {
      "cell_type": "code",
      "source": [
        "finalised_data = output.select(\"Independent variables\", \"SepalLengthCm\")"
      ],
      "metadata": {
        "id": "oncNeuz6Tjd_"
      },
      "execution_count": 89,
      "outputs": []
    },
    {
      "cell_type": "code",
      "source": [
        "train_data, test_data = finalised_data.randomSplit([0.7, 0.3])"
      ],
      "metadata": {
        "id": "3HkSwfqvTlDb"
      },
      "execution_count": 90,
      "outputs": []
    },
    {
      "cell_type": "code",
      "source": [
        "train_data.show(5)"
      ],
      "metadata": {
        "colab": {
          "base_uri": "https://localhost:8080/"
        },
        "id": "tLhu6HORYk6f",
        "outputId": "bababcf1-4f4a-4af2-ab08-272c567bbc42"
      },
      "execution_count": 91,
      "outputs": [
        {
          "output_type": "stream",
          "name": "stdout",
          "text": [
            "+---------------------+-------------+\n",
            "|Independent variables|SepalLengthCm|\n",
            "+---------------------+-------------+\n",
            "|        [2.0,3.5,1.0]|          5.0|\n",
            "|        [2.2,4.5,1.5]|          6.2|\n",
            "|        [2.2,5.0,1.5]|          6.0|\n",
            "|        [2.3,1.3,0.3]|          4.5|\n",
            "|        [2.3,3.3,1.0]|          5.0|\n",
            "+---------------------+-------------+\n",
            "only showing top 5 rows\n",
            "\n"
          ]
        }
      ]
    },
    {
      "cell_type": "code",
      "source": [
        "test_data.show(5)"
      ],
      "metadata": {
        "colab": {
          "base_uri": "https://localhost:8080/"
        },
        "id": "Hh134RbTYqjp",
        "outputId": "86232213-0518-462e-a0c0-99a7df698b98"
      },
      "execution_count": 92,
      "outputs": [
        {
          "output_type": "stream",
          "name": "stdout",
          "text": [
            "+---------------------+-------------+\n",
            "|Independent variables|SepalLengthCm|\n",
            "+---------------------+-------------+\n",
            "|        [2.2,4.0,1.0]|          6.0|\n",
            "|        [2.3,4.0,1.3]|          5.5|\n",
            "|        [2.4,3.3,1.0]|          4.9|\n",
            "|        [2.4,3.8,1.1]|          5.5|\n",
            "|        [2.5,3.0,1.1]|          5.1|\n",
            "+---------------------+-------------+\n",
            "only showing top 5 rows\n",
            "\n"
          ]
        }
      ]
    },
    {
      "cell_type": "code",
      "source": [
        "regressor = LinearRegression(featuresCol = 'Independent variables', labelCol = 'SepalLengthCm')\n",
        "regressor = regressor.fit(train_data)"
      ],
      "metadata": {
        "id": "1dKQ60nUTpFX"
      },
      "execution_count": 93,
      "outputs": []
    },
    {
      "cell_type": "code",
      "source": [
        "pred_results = regressor.evaluate(test_data)\n",
        "pred_results.predictions.show()"
      ],
      "metadata": {
        "colab": {
          "base_uri": "https://localhost:8080/"
        },
        "id": "qwOM-76zU7WD",
        "outputId": "4f8ed149-5d0f-4c79-a60c-2b9e3d648cc3"
      },
      "execution_count": 94,
      "outputs": [
        {
          "output_type": "stream",
          "name": "stdout",
          "text": [
            "+---------------------+-------------+------------------+\n",
            "|Independent variables|SepalLengthCm|        prediction|\n",
            "+---------------------+-------------+------------------+\n",
            "|        [2.2,4.0,1.0]|          6.0| 5.601180531702735|\n",
            "|        [2.3,4.0,1.3]|          5.5| 5.451085898453519|\n",
            "|        [2.4,3.3,1.0]|          4.9| 5.187705366671436|\n",
            "|        [2.4,3.8,1.1]|          5.5| 5.504195569153457|\n",
            "|        [2.5,3.0,1.1]|          5.1| 4.948090642132734|\n",
            "|        [2.5,5.0,1.9]|          6.3| 5.927268508633025|\n",
            "|        [2.6,5.6,1.4]|          6.1| 6.816562888246164|\n",
            "|        [2.7,3.9,1.4]|          5.2| 5.561723272215294|\n",
            "|        [2.7,4.9,1.8]|          6.3|  6.05131220546544|\n",
            "|        [2.7,5.1,1.9]|          5.8| 6.134890844944078|\n",
            "|        [2.8,4.6,1.5]|          6.5| 6.098480424354532|\n",
            "|        [2.8,4.8,1.8]|          6.2| 6.038667592119275|\n",
            "|        [2.9,4.6,1.3]|          6.6|  6.30686447039006|\n",
            "|        [3.0,1.1,0.1]|          4.3|4.5149043066222845|\n",
            "|        [3.0,1.4,0.1]|          4.8| 4.747815869625667|\n",
            "|        [3.0,4.6,1.4]|          6.1| 6.300161308854742|\n",
            "|        [3.0,4.9,1.8]|          6.1| 6.246289928430329|\n",
            "|        [3.0,5.9,2.1]|          7.1| 6.807574597537423|\n",
            "|        [3.1,1.5,0.1]|          4.9| 4.890445631615091|\n",
            "|        [3.1,1.6,0.2]|          4.8| 4.896387083425935|\n",
            "+---------------------+-------------+------------------+\n",
            "only showing top 20 rows\n",
            "\n"
          ]
        }
      ]
    },
    {
      "cell_type": "code",
      "source": [
        "y_pred=pred_results.predictions['SepalLengthCm']"
      ],
      "metadata": {
        "id": "i3MVsFFHVI01"
      },
      "execution_count": 95,
      "outputs": []
    },
    {
      "cell_type": "code",
      "source": [
        "pred_results.meanSquaredError"
      ],
      "metadata": {
        "colab": {
          "base_uri": "https://localhost:8080/"
        },
        "id": "q1gLj3GLWn0g",
        "outputId": "d8600c45-906c-429b-8d96-0c734179ec2d"
      },
      "execution_count": 96,
      "outputs": [
        {
          "output_type": "execute_result",
          "data": {
            "text/plain": [
              "0.1009627278910953"
            ]
          },
          "metadata": {},
          "execution_count": 96
        }
      ]
    },
    {
      "cell_type": "code",
      "source": [
        "sns.regplot()"
      ],
      "metadata": {
        "id": "_3rPPKVqe5FB"
      },
      "execution_count": null,
      "outputs": []
    }
  ]
}